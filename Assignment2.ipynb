{
 "cells": [
  {
   "cell_type": "markdown",
   "metadata": {},
   "source": [
    "## Assignment 2 Pandas\n",
    "\n",
    "**Instructions:** <br>\n",
    "a. write your answer after `# your answer here`. Do not delete any code that is in the cell, as the code facilitates checking your answers. If you happen to delete any code that prevents expected outputs, you may lose points. <br>\n",
    "b. when you finish the assignment, make sure to use `Kernel` -> `Restart and Run All` to restart the kernel and rerun the entire notebook to generate the desired outputs, before submitting your assignment. <br>\n",
    "c. upload your .ipynb file. <br>\n",
    "<br>\n",
    "Each subquestion is worth 5 points, and the total score for assignment 2 is 75 points.\n",
    "\n",
    "**Policy:** <br>\n",
    "Assignment submitted late will receive a late penalty (30% point reduction), regardless of the reason. Empty assignment or no submission receives 0 point."
   ]
  },
  {
   "cell_type": "markdown",
   "metadata": {},
   "source": [
    "\n",
    "### Question 1\n",
    "\n",
    "Use the code to simulate data and answer the questions below."
   ]
  },
  {
   "cell_type": "code",
   "execution_count": 1,
   "metadata": {},
   "outputs": [],
   "source": [
    "import pandas as pd\n",
    "import numpy as np\n",
    "np.random.seed(1234)\n",
    "s1 = pd.Series(np.random.randint(1, high=5, size=100, dtype='l'))\n",
    "s2 = pd.Series(np.random.randint(1, high=4, size=100, dtype='l'))\n",
    "s3 = pd.Series(np.random.randint(100, high=301, size=100, dtype='l'))\n",
    "s4 = pd.Series(np.random.randint(10000, high=30001, size=100, dtype='l'))"
   ]
  },
  {
   "cell_type": "markdown",
   "metadata": {},
   "source": [
    " 1. (1) Create a DataFrame `df` by concatenating the three Series s1, s2, s3 as three columns (df: 100 by 3), and then rename column names to be 'a', 'b', 'c'. Keep the first 70 rows of `df`(df: 70 by 3).<br>\n",
    " Create another DataFrame `df2` by joinning the two Series s1, s4 by column (df2: 100 by 2), and the column names should be 'A' and 'B'. Then, keep the last 50 rows of `df2`(df2: 50 by 2)."
   ]
  },
  {
   "cell_type": "code",
   "execution_count": 2,
   "metadata": {},
   "outputs": [
    {
     "name": "stdout",
     "output_type": "stream",
     "text": [
      "Index(['a', 'b', 'c'], dtype='object') \n",
      "\n",
      "Index(['A', 'B'], dtype='object') \n",
      "\n",
      "RangeIndex(start=0, stop=70, step=1) \n",
      "\n",
      "RangeIndex(start=50, stop=100, step=1) \n",
      "\n"
     ]
    }
   ],
   "source": [
    "# Your answer here\n",
    "\n",
    "df = pd.concat([s1,s2,s3],axis = 1)\n",
    "df.columns = ['a','b','c']\n",
    "\n",
    "df = df.head(70)\n",
    "\n",
    "df2 = pd.concat([s1,s4],axis = 1)\n",
    "df2.columns = ['A','B']\n",
    "df2 = df2.tail(50)\n",
    "\n",
    "# for grading\n",
    "print(df.columns,'\\n'); print(df2.columns,'\\n')\n",
    "print(df.index,'\\n'); print(df2.index,'\\n')"
   ]
  },
  {
   "cell_type": "markdown",
   "metadata": {},
   "source": [
    "1. (2) Merge `df` and `df2` by the index values into `df3`. Note that we will only keep the intersections of the two dataframes (`df3`: 20 by 5). Additionally, drop the column in `df3` that is repetitive (`df3`: 20 by 4)."
   ]
  },
  {
   "cell_type": "code",
   "execution_count": 3,
   "metadata": {},
   "outputs": [
    {
     "data": {
      "text/html": [
       "<div>\n",
       "<style scoped>\n",
       "    .dataframe tbody tr th:only-of-type {\n",
       "        vertical-align: middle;\n",
       "    }\n",
       "\n",
       "    .dataframe tbody tr th {\n",
       "        vertical-align: top;\n",
       "    }\n",
       "\n",
       "    .dataframe thead th {\n",
       "        text-align: right;\n",
       "    }\n",
       "</style>\n",
       "<table border=\"1\" class=\"dataframe\">\n",
       "  <thead>\n",
       "    <tr style=\"text-align: right;\">\n",
       "      <th></th>\n",
       "      <th>b</th>\n",
       "      <th>c</th>\n",
       "      <th>A</th>\n",
       "      <th>B</th>\n",
       "    </tr>\n",
       "  </thead>\n",
       "  <tbody>\n",
       "    <tr>\n",
       "      <td>50</td>\n",
       "      <td>1</td>\n",
       "      <td>168</td>\n",
       "      <td>2</td>\n",
       "      <td>19055</td>\n",
       "    </tr>\n",
       "    <tr>\n",
       "      <td>51</td>\n",
       "      <td>3</td>\n",
       "      <td>160</td>\n",
       "      <td>4</td>\n",
       "      <td>16122</td>\n",
       "    </tr>\n",
       "    <tr>\n",
       "      <td>52</td>\n",
       "      <td>1</td>\n",
       "      <td>206</td>\n",
       "      <td>4</td>\n",
       "      <td>22849</td>\n",
       "    </tr>\n",
       "    <tr>\n",
       "      <td>53</td>\n",
       "      <td>1</td>\n",
       "      <td>103</td>\n",
       "      <td>4</td>\n",
       "      <td>16809</td>\n",
       "    </tr>\n",
       "    <tr>\n",
       "      <td>54</td>\n",
       "      <td>1</td>\n",
       "      <td>275</td>\n",
       "      <td>3</td>\n",
       "      <td>29924</td>\n",
       "    </tr>\n",
       "  </tbody>\n",
       "</table>\n",
       "</div>"
      ],
      "text/plain": [
       "    b    c  A      B\n",
       "50  1  168  2  19055\n",
       "51  3  160  4  16122\n",
       "52  1  206  4  22849\n",
       "53  1  103  4  16809\n",
       "54  1  275  3  29924"
      ]
     },
     "execution_count": 3,
     "metadata": {},
     "output_type": "execute_result"
    }
   ],
   "source": [
    "# Your answer here\n",
    "df3 = pd.merge(df, df2,left_index=True, right_index=True).drop('a',axis=1)\n",
    "\n",
    "# for grading\n",
    "df3.head()"
   ]
  },
  {
   "cell_type": "markdown",
   "metadata": {},
   "source": [
    "1. (3) Create a one column DataFrame with the values of the three Series s1, s2, s3 and assign it to 'df4' (300 by 1)."
   ]
  },
  {
   "cell_type": "code",
   "execution_count": 4,
   "metadata": {},
   "outputs": [
    {
     "name": "stdout",
     "output_type": "stream",
     "text": [
      "<class 'pandas.core.series.Series'>\n",
      "(300,)\n",
      "95    202\n",
      "96    108\n",
      "97    141\n",
      "98    261\n",
      "99    169\n",
      "dtype: int32\n"
     ]
    }
   ],
   "source": [
    "# Your answer here\n",
    "df4 = pd.concat([s1,s2,s3],axis=0)\n",
    "\n",
    "# for grading\n",
    "print(type(df4)) #check the type of the df4\n",
    "print(df4.shape) #check the shape\n",
    "print(df4.tail()) #check last columns: note the index"
   ]
  },
  {
   "cell_type": "markdown",
   "metadata": {},
   "source": [
    "1. (4) Reindex the DataFrame so that the index is from 0 to 299"
   ]
  },
  {
   "cell_type": "code",
   "execution_count": 5,
   "metadata": {},
   "outputs": [
    {
     "data": {
      "text/plain": [
       "0        4\n",
       "1        4\n",
       "2        3\n",
       "3        2\n",
       "4        1\n",
       "      ... \n",
       "295    202\n",
       "296    108\n",
       "297    141\n",
       "298    261\n",
       "299    169\n",
       "Length: 300, dtype: int32"
      ]
     },
     "execution_count": 5,
     "metadata": {},
     "output_type": "execute_result"
    }
   ],
   "source": [
    "# Your answer here\n",
    "df4.index = range(0,300)\n",
    "\n",
    "# for grading\n",
    "df4"
   ]
  },
  {
   "cell_type": "markdown",
   "metadata": {},
   "source": [
    "### Question 2\n",
    "\n",
    "First, download the Olympic medal dataset (medals.csv). Use the following code to load the dataset.\n",
    "\n",
    "The columns give information on: <br>\n",
    "summer Olympic games--number of games and summer medals;  <br>\n",
    "winter Olympic games--number of games and winter medals;  <br>\n",
    "total Olympic games--number of games and total medals."
   ]
  },
  {
   "cell_type": "code",
   "execution_count": 2,
   "metadata": {
    "nbgrader": {
     "grade": false,
     "grade_id": "1",
     "locked": false,
     "solution": false
    },
    "scrolled": false,
    "umich_question": "prolog-000"
   },
   "outputs": [],
   "source": [
    "import pandas as pd\n",
    "df = pd.read_csv('medals.csv', index_col=0, skiprows=0)"
   ]
  },
  {
   "cell_type": "markdown",
   "metadata": {},
   "source": [
    "2. (1) Show the first 6 rows in the DataFrame. "
   ]
  },
  {
   "cell_type": "code",
   "execution_count": 3,
   "metadata": {
    "scrolled": true
   },
   "outputs": [
    {
     "data": {
      "text/html": [
       "<div>\n",
       "<style scoped>\n",
       "    .dataframe tbody tr th:only-of-type {\n",
       "        vertical-align: middle;\n",
       "    }\n",
       "\n",
       "    .dataframe tbody tr th {\n",
       "        vertical-align: top;\n",
       "    }\n",
       "\n",
       "    .dataframe thead th {\n",
       "        text-align: right;\n",
       "    }\n",
       "</style>\n",
       "<table border=\"1\" class=\"dataframe\">\n",
       "  <thead>\n",
       "    <tr style=\"text-align: right;\">\n",
       "      <th></th>\n",
       "      <th>Summer</th>\n",
       "      <th>Gold</th>\n",
       "      <th>Silver</th>\n",
       "      <th>Bronze</th>\n",
       "      <th>Total</th>\n",
       "      <th>Winter</th>\n",
       "      <th>Gold.1</th>\n",
       "      <th>Silver.1</th>\n",
       "      <th>Bronze.1</th>\n",
       "      <th>Total.1</th>\n",
       "      <th>Games</th>\n",
       "      <th>Gold.2</th>\n",
       "      <th>Silver.2</th>\n",
       "      <th>Bronze.2</th>\n",
       "      <th>Combined total</th>\n",
       "      <th>ID</th>\n",
       "    </tr>\n",
       "  </thead>\n",
       "  <tbody>\n",
       "    <tr>\n",
       "      <td>Afghanistan</td>\n",
       "      <td>13</td>\n",
       "      <td>0</td>\n",
       "      <td>0</td>\n",
       "      <td>2</td>\n",
       "      <td>2</td>\n",
       "      <td>0</td>\n",
       "      <td>0</td>\n",
       "      <td>0</td>\n",
       "      <td>0</td>\n",
       "      <td>0</td>\n",
       "      <td>13</td>\n",
       "      <td>0</td>\n",
       "      <td>0</td>\n",
       "      <td>2</td>\n",
       "      <td>2</td>\n",
       "      <td>AFG</td>\n",
       "    </tr>\n",
       "    <tr>\n",
       "      <td>Algeria</td>\n",
       "      <td>12</td>\n",
       "      <td>5</td>\n",
       "      <td>2</td>\n",
       "      <td>8</td>\n",
       "      <td>15</td>\n",
       "      <td>3</td>\n",
       "      <td>0</td>\n",
       "      <td>0</td>\n",
       "      <td>0</td>\n",
       "      <td>0</td>\n",
       "      <td>15</td>\n",
       "      <td>5</td>\n",
       "      <td>2</td>\n",
       "      <td>8</td>\n",
       "      <td>15</td>\n",
       "      <td>ALG</td>\n",
       "    </tr>\n",
       "    <tr>\n",
       "      <td>Argentina</td>\n",
       "      <td>23</td>\n",
       "      <td>18</td>\n",
       "      <td>24</td>\n",
       "      <td>28</td>\n",
       "      <td>70</td>\n",
       "      <td>18</td>\n",
       "      <td>0</td>\n",
       "      <td>0</td>\n",
       "      <td>0</td>\n",
       "      <td>0</td>\n",
       "      <td>41</td>\n",
       "      <td>18</td>\n",
       "      <td>24</td>\n",
       "      <td>28</td>\n",
       "      <td>70</td>\n",
       "      <td>ARG</td>\n",
       "    </tr>\n",
       "    <tr>\n",
       "      <td>Armenia</td>\n",
       "      <td>5</td>\n",
       "      <td>1</td>\n",
       "      <td>2</td>\n",
       "      <td>9</td>\n",
       "      <td>12</td>\n",
       "      <td>6</td>\n",
       "      <td>0</td>\n",
       "      <td>0</td>\n",
       "      <td>0</td>\n",
       "      <td>0</td>\n",
       "      <td>11</td>\n",
       "      <td>1</td>\n",
       "      <td>2</td>\n",
       "      <td>9</td>\n",
       "      <td>12</td>\n",
       "      <td>ARM</td>\n",
       "    </tr>\n",
       "    <tr>\n",
       "      <td>Australasia</td>\n",
       "      <td>2</td>\n",
       "      <td>3</td>\n",
       "      <td>4</td>\n",
       "      <td>5</td>\n",
       "      <td>12</td>\n",
       "      <td>0</td>\n",
       "      <td>0</td>\n",
       "      <td>0</td>\n",
       "      <td>0</td>\n",
       "      <td>0</td>\n",
       "      <td>2</td>\n",
       "      <td>3</td>\n",
       "      <td>4</td>\n",
       "      <td>5</td>\n",
       "      <td>12</td>\n",
       "      <td>ANZ</td>\n",
       "    </tr>\n",
       "    <tr>\n",
       "      <td>Australia</td>\n",
       "      <td>25</td>\n",
       "      <td>139</td>\n",
       "      <td>152</td>\n",
       "      <td>177</td>\n",
       "      <td>468</td>\n",
       "      <td>18</td>\n",
       "      <td>5</td>\n",
       "      <td>3</td>\n",
       "      <td>4</td>\n",
       "      <td>12</td>\n",
       "      <td>43</td>\n",
       "      <td>144</td>\n",
       "      <td>155</td>\n",
       "      <td>181</td>\n",
       "      <td>480</td>\n",
       "      <td>AUS</td>\n",
       "    </tr>\n",
       "  </tbody>\n",
       "</table>\n",
       "</div>"
      ],
      "text/plain": [
       "              Summer  Gold  Silver  Bronze  Total   Winter  Gold.1  Silver.1  \\\n",
       "Afghanistan       13     0       0       2      2        0       0         0   \n",
       "Algeria           12     5       2       8     15        3       0         0   \n",
       "Argentina         23    18      24      28     70       18       0         0   \n",
       "Armenia            5     1       2       9     12        6       0         0   \n",
       "Australasia        2     3       4       5     12        0       0         0   \n",
       "Australia         25   139     152     177    468       18       5         3   \n",
       "\n",
       "             Bronze.1  Total.1   Games  Gold.2  Silver.2  Bronze.2  \\\n",
       "Afghanistan         0        0      13       0         0         2   \n",
       "Algeria             0        0      15       5         2         8   \n",
       "Argentina           0        0      41      18        24        28   \n",
       "Armenia             0        0      11       1         2         9   \n",
       "Australasia         0        0       2       3         4         5   \n",
       "Australia           4       12      43     144       155       181   \n",
       "\n",
       "             Combined total   ID  \n",
       "Afghanistan               2  AFG  \n",
       "Algeria                  15  ALG  \n",
       "Argentina                70  ARG  \n",
       "Armenia                  12  ARM  \n",
       "Australasia              12  ANZ  \n",
       "Australia               480  AUS  "
      ]
     },
     "execution_count": 3,
     "metadata": {},
     "output_type": "execute_result"
    }
   ],
   "source": [
    "# Your answer here\n",
    "df.head(6)"
   ]
  },
  {
   "cell_type": "markdown",
   "metadata": {},
   "source": [
    "2. (2) Provide the shape of the DataFrame."
   ]
  },
  {
   "cell_type": "code",
   "execution_count": 4,
   "metadata": {},
   "outputs": [
    {
     "data": {
      "text/plain": [
       "(147, 16)"
      ]
     },
     "execution_count": 4,
     "metadata": {},
     "output_type": "execute_result"
    }
   ],
   "source": [
    "# Your answer here\n",
    "df.shape"
   ]
  },
  {
   "cell_type": "markdown",
   "metadata": {},
   "source": [
    "2. (3) Rename the column name 'Combined total' to 'Combined Total' and then show the columns."
   ]
  },
  {
   "cell_type": "code",
   "execution_count": 5,
   "metadata": {},
   "outputs": [
    {
     "data": {
      "text/plain": [
       "'Combined Total'"
      ]
     },
     "execution_count": 5,
     "metadata": {},
     "output_type": "execute_result"
    }
   ],
   "source": [
    "# Your answer here\n",
    "df.rename(columns={'Combined total': 'Combined Total'},inplace =True)\n",
    "\n",
    "#for grading\n",
    "df.columns[14]"
   ]
  },
  {
   "cell_type": "markdown",
   "metadata": {},
   "source": [
    "2. (4) Change all column names to lowercase and remove all spaces ' '."
   ]
  },
  {
   "cell_type": "code",
   "execution_count": 6,
   "metadata": {},
   "outputs": [
    {
     "data": {
      "text/plain": [
       "Index(['summer', 'gold', 'silver', 'bronze', 'total', 'winter', 'gold.1',\n",
       "       'silver.1', 'bronze.1', 'total.1', 'games', 'gold.2', 'silver.2',\n",
       "       'bronze.2', 'combinedtotal', 'id'],\n",
       "      dtype='object')"
      ]
     },
     "execution_count": 6,
     "metadata": {},
     "output_type": "execute_result"
    }
   ],
   "source": [
    "# Your answer here\n",
    "df1 = df.copy()\n",
    "df1.columns = map(lambda x: str(x).lower().replace(' ',''),df1.columns)\n",
    "\n",
    "# for grading\n",
    "df1.columns"
   ]
  },
  {
   "cell_type": "markdown",
   "metadata": {},
   "source": [
    "2. (5) Which country has won the most gold medals in summer games? Provide the country name and the number of gold medals. <br>\n",
    "Expected output: a tuple consisting of the country name and the number of gold medals."
   ]
  },
  {
   "cell_type": "code",
   "execution_count": 1,
   "metadata": {
    "nbgrader": {
     "grade": false,
     "locked": false,
     "solution": false
    },
    "umich_part_id": "001",
    "umich_partlist_id": "001"
   },
   "outputs": [
    {
     "ename": "NameError",
     "evalue": "name 'df' is not defined",
     "output_type": "error",
     "traceback": [
      "\u001b[1;31m---------------------------------------------------------------------------\u001b[0m",
      "\u001b[1;31mNameError\u001b[0m                                 Traceback (most recent call last)",
      "\u001b[1;32m<ipython-input-1-d074e7d0e753>\u001b[0m in \u001b[0;36m<module>\u001b[1;34m\u001b[0m\n\u001b[0;32m      8\u001b[0m     \u001b[1;32mreturn\u001b[0m \u001b[0mcountryName\u001b[0m\u001b[1;33m,\u001b[0m\u001b[0mgoldNumber\u001b[0m\u001b[1;33m\u001b[0m\u001b[1;33m\u001b[0m\u001b[0m\n\u001b[0;32m      9\u001b[0m \u001b[1;33m\u001b[0m\u001b[0m\n\u001b[1;32m---> 10\u001b[1;33m \u001b[0mmost_gold\u001b[0m\u001b[1;33m(\u001b[0m\u001b[1;33m)\u001b[0m\u001b[1;33m\u001b[0m\u001b[1;33m\u001b[0m\u001b[0m\n\u001b[0m",
      "\u001b[1;32m<ipython-input-1-d074e7d0e753>\u001b[0m in \u001b[0;36mmost_gold\u001b[1;34m()\u001b[0m\n\u001b[0;32m      1\u001b[0m \u001b[1;32mdef\u001b[0m \u001b[0mmost_gold\u001b[0m\u001b[1;33m(\u001b[0m\u001b[1;33m)\u001b[0m\u001b[1;33m:\u001b[0m\u001b[1;33m\u001b[0m\u001b[1;33m\u001b[0m\u001b[0m\n\u001b[0;32m      2\u001b[0m     \u001b[1;31m# Your answer here\u001b[0m\u001b[1;33m\u001b[0m\u001b[1;33m\u001b[0m\u001b[1;33m\u001b[0m\u001b[0m\n\u001b[1;32m----> 3\u001b[1;33m     \u001b[0mdf_g\u001b[0m \u001b[1;33m=\u001b[0m \u001b[0mdf\u001b[0m\u001b[1;33m.\u001b[0m\u001b[0mcopy\u001b[0m\u001b[1;33m(\u001b[0m\u001b[1;33m)\u001b[0m\u001b[1;33m\u001b[0m\u001b[1;33m\u001b[0m\u001b[0m\n\u001b[0m\u001b[0;32m      4\u001b[0m     \u001b[0mdf_g\u001b[0m \u001b[1;33m=\u001b[0m \u001b[0mdf_g\u001b[0m\u001b[1;33m[\u001b[0m\u001b[1;33m[\u001b[0m\u001b[1;34m'Gold'\u001b[0m\u001b[1;33m]\u001b[0m\u001b[1;33m]\u001b[0m\u001b[1;33m\u001b[0m\u001b[1;33m\u001b[0m\u001b[0m\n\u001b[0;32m      5\u001b[0m     \u001b[0mdf_g\u001b[0m \u001b[1;33m=\u001b[0m \u001b[0mdf_g\u001b[0m\u001b[1;33m.\u001b[0m\u001b[0mdrop\u001b[0m\u001b[1;33m(\u001b[0m\u001b[0mindex\u001b[0m\u001b[1;33m=\u001b[0m\u001b[1;34m'Totals'\u001b[0m\u001b[1;33m)\u001b[0m\u001b[1;33m\u001b[0m\u001b[1;33m\u001b[0m\u001b[0m\n",
      "\u001b[1;31mNameError\u001b[0m: name 'df' is not defined"
     ]
    }
   ],
   "source": [
    "def most_gold():\n",
    "    # Your answer here\n",
    "    df_g = df.copy()\n",
    "    df_g = df_g[['Gold']]\n",
    "    df_g = df_g.drop(index='Totals')\n",
    "    countryName = df_g['Gold'].idxmax()\n",
    "    goldNumber = df_g['Gold'].max()\n",
    "    return countryName,goldNumber\n",
    "\n",
    "most_gold()"
   ]
  },
  {
   "cell_type": "markdown",
   "metadata": {},
   "source": [
    "2. (6) Which country had the largest difference between their summer and winter medal counts, relative to the total medal count? <br> Note: only include countries that have won at least 10 medals in both summer and winter. <br>\n",
    "$$\\frac{Summer_{Medal} - Winter_{Medal}}{Total_{Medal}}$$\n",
    "Instruction: create a new copy of the DataFrame, first calculate the value as a new column named 'percent', and then **return the row information of the country as a pandas Series**, i.e.:<br> <br>\n",
    "summer x<br>\n",
    "gold x<br>\n",
    "silver x<br>\n",
    "...<br>\n",
    "percent x<br>\n",
    "Name: x, dtype: object\n",
    "\n",
    "\n"
   ]
  },
  {
   "cell_type": "code",
   "execution_count": 12,
   "metadata": {
    "umich_part_id": "002",
    "umich_partlist_id": "001"
   },
   "outputs": [
    {
     "data": {
      "text/html": [
       "<div>\n",
       "<style scoped>\n",
       "    .dataframe tbody tr th:only-of-type {\n",
       "        vertical-align: middle;\n",
       "    }\n",
       "\n",
       "    .dataframe tbody tr th {\n",
       "        vertical-align: top;\n",
       "    }\n",
       "\n",
       "    .dataframe thead th {\n",
       "        text-align: right;\n",
       "    }\n",
       "</style>\n",
       "<table border=\"1\" class=\"dataframe\">\n",
       "  <thead>\n",
       "    <tr style=\"text-align: right;\">\n",
       "      <th></th>\n",
       "      <th>Summer</th>\n",
       "      <th>Gold</th>\n",
       "      <th>Silver</th>\n",
       "      <th>Bronze</th>\n",
       "      <th>Total</th>\n",
       "      <th>Winter</th>\n",
       "      <th>Gold.1</th>\n",
       "      <th>Silver.1</th>\n",
       "      <th>Bronze.1</th>\n",
       "      <th>Total.1</th>\n",
       "      <th>Games</th>\n",
       "      <th>Gold.2</th>\n",
       "      <th>Silver.2</th>\n",
       "      <th>Bronze.2</th>\n",
       "      <th>Combined Total</th>\n",
       "      <th>ID</th>\n",
       "      <th>percent</th>\n",
       "    </tr>\n",
       "  </thead>\n",
       "  <tbody>\n",
       "    <tr>\n",
       "      <td>Australia</td>\n",
       "      <td>25.0</td>\n",
       "      <td>139.0</td>\n",
       "      <td>152.0</td>\n",
       "      <td>177.0</td>\n",
       "      <td>468.0</td>\n",
       "      <td>18.0</td>\n",
       "      <td>5.0</td>\n",
       "      <td>3.0</td>\n",
       "      <td>4.0</td>\n",
       "      <td>12.0</td>\n",
       "      <td>43.0</td>\n",
       "      <td>144.0</td>\n",
       "      <td>155.0</td>\n",
       "      <td>181.0</td>\n",
       "      <td>480.0</td>\n",
       "      <td>AUS</td>\n",
       "      <td>0.95</td>\n",
       "    </tr>\n",
       "  </tbody>\n",
       "</table>\n",
       "</div>"
      ],
      "text/plain": [
       "            Summer   Gold  Silver  Bronze  Total   Winter  Gold.1  Silver.1  \\\n",
       "Australia     25.0  139.0   152.0   177.0  468.0     18.0     5.0       3.0   \n",
       "\n",
       "           Bronze.1  Total.1   Games  Gold.2  Silver.2  Bronze.2  \\\n",
       "Australia       4.0     12.0    43.0   144.0     155.0     181.0   \n",
       "\n",
       "           Combined Total   ID  percent  \n",
       "Australia           480.0  AUS     0.95  "
      ]
     },
     "execution_count": 12,
     "metadata": {},
     "output_type": "execute_result"
    }
   ],
   "source": [
    "def max_diff():\n",
    "    # Your answer here\n",
    "    df_medal = df.copy()\n",
    "    df_medal = df.where((df['Total']>=10) & (df['Total.1']>=10))\n",
    "    df_medal= df_medal.dropna()\n",
    "    df_medal['percent'] = abs((df_medal[\"Total\"]- df_medal[\"Total.1\"])/ df_medal[\"Combined Total\"])\n",
    "    max_country = df_medal.loc[[df_medal['percent'].idxmax()]]\n",
    "    return max_country\n",
    "    \n",
    "max_diff()"
   ]
  },
  {
   "cell_type": "markdown",
   "metadata": {},
   "source": [
    "2. (7) Create a new column 'country_cat' that denotes the first letter of the country name, i.e. \"A\" for \"Afghanistan\", and count the number of countries in each category. Make sure to present the results alphabetically."
   ]
  },
  {
   "cell_type": "code",
   "execution_count": 13,
   "metadata": {
    "scrolled": true
   },
   "outputs": [
    {
     "data": {
      "text/plain": [
       "country_cat\n",
       "A     8\n",
       "B    12\n",
       "C    12\n",
       "D     3\n",
       "E     6\n",
       "F     2\n",
       "G     9\n",
       "H     3\n",
       "I    10\n",
       "J     2\n",
       "K     4\n",
       "L     5\n",
       "M     9\n",
       "N     8\n",
       "P     8\n",
       "Q     1\n",
       "R     3\n",
       "S    17\n",
       "T     8\n",
       "U     8\n",
       "V     3\n",
       "W     1\n",
       "Y     1\n",
       "Z     2\n",
       "Name: ID, dtype: int64"
      ]
     },
     "execution_count": 13,
     "metadata": {},
     "output_type": "execute_result"
    }
   ],
   "source": [
    "def country_first_letter():\n",
    "    # Your answer here\n",
    "    df_cat = df.copy()\n",
    "    df_cat = df_cat.drop(index=['Mixed team', 'Totals'])\n",
    "    df_cat['country_cat'] = df_cat.index.str[0]\n",
    "    df_cat = df_cat.groupby('country_cat')['ID'].aggregate('count')\n",
    "    return df_cat\n",
    "    \n",
    "    \n",
    "country_first_letter()"
   ]
  },
  {
   "cell_type": "markdown",
   "metadata": {},
   "source": [
    "### Question 3\n",
    "Using the following code to read the 'census.csv' dataset, which contains population data for counties and states in US from 2010 to 2015. Counties are political and geographic subdivisions of states in US. <br>"
   ]
  },
  {
   "cell_type": "code",
   "execution_count": 14,
   "metadata": {
    "scrolled": true,
    "umich_question": "prolog-005"
   },
   "outputs": [
    {
     "name": "stdout",
     "output_type": "stream",
     "text": [
      "(3193, 100) \n",
      "\n",
      "Index(['SUMLEV', 'REGION', 'DIVISION', 'STATE', 'COUNTY', 'STNAME', 'CTYNAME',\n",
      "       'CENSUS2010POP', 'ESTIMATESBASE2010', 'POPESTIMATE2010',\n",
      "       'POPESTIMATE2011', 'POPESTIMATE2012', 'POPESTIMATE2013',\n",
      "       'POPESTIMATE2014', 'POPESTIMATE2015', 'NPOPCHG_2010', 'NPOPCHG_2011',\n",
      "       'NPOPCHG_2012', 'NPOPCHG_2013', 'NPOPCHG_2014', 'NPOPCHG_2015',\n",
      "       'BIRTHS2010', 'BIRTHS2011', 'BIRTHS2012', 'BIRTHS2013', 'BIRTHS2014',\n",
      "       'BIRTHS2015', 'DEATHS2010', 'DEATHS2011', 'DEATHS2012', 'DEATHS2013',\n",
      "       'DEATHS2014', 'DEATHS2015', 'NATURALINC2010', 'NATURALINC2011',\n",
      "       'NATURALINC2012', 'NATURALINC2013', 'NATURALINC2014', 'NATURALINC2015',\n",
      "       'INTERNATIONALMIG2010', 'INTERNATIONALMIG2011', 'INTERNATIONALMIG2012',\n",
      "       'INTERNATIONALMIG2013', 'INTERNATIONALMIG2014', 'INTERNATIONALMIG2015',\n",
      "       'DOMESTICMIG2010', 'DOMESTICMIG2011', 'DOMESTICMIG2012',\n",
      "       'DOMESTICMIG2013', 'DOMESTICMIG2014', 'DOMESTICMIG2015', 'NETMIG2010',\n",
      "       'NETMIG2011', 'NETMIG2012', 'NETMIG2013', 'NETMIG2014', 'NETMIG2015',\n",
      "       'RESIDUAL2010', 'RESIDUAL2011', 'RESIDUAL2012', 'RESIDUAL2013',\n",
      "       'RESIDUAL2014', 'RESIDUAL2015', 'GQESTIMATESBASE2010',\n",
      "       'GQESTIMATES2010', 'GQESTIMATES2011', 'GQESTIMATES2012',\n",
      "       'GQESTIMATES2013', 'GQESTIMATES2014', 'GQESTIMATES2015', 'RBIRTH2011',\n",
      "       'RBIRTH2012', 'RBIRTH2013', 'RBIRTH2014', 'RBIRTH2015', 'RDEATH2011',\n",
      "       'RDEATH2012', 'RDEATH2013', 'RDEATH2014', 'RDEATH2015',\n",
      "       'RNATURALINC2011', 'RNATURALINC2012', 'RNATURALINC2013',\n",
      "       'RNATURALINC2014', 'RNATURALINC2015', 'RINTERNATIONALMIG2011',\n",
      "       'RINTERNATIONALMIG2012', 'RINTERNATIONALMIG2013',\n",
      "       'RINTERNATIONALMIG2014', 'RINTERNATIONALMIG2015', 'RDOMESTICMIG2011',\n",
      "       'RDOMESTICMIG2012', 'RDOMESTICMIG2013', 'RDOMESTICMIG2014',\n",
      "       'RDOMESTICMIG2015', 'RNETMIG2011', 'RNETMIG2012', 'RNETMIG2013',\n",
      "       'RNETMIG2014', 'RNETMIG2015'],\n",
      "      dtype='object') \n",
      "\n",
      "      SUMLEV  REGION  DIVISION  STATE  COUNTY   STNAME            CTYNAME  \\\n",
      "3188      50       4         8     56      37  Wyoming  Sweetwater County   \n",
      "3189      50       4         8     56      39  Wyoming       Teton County   \n",
      "3190      50       4         8     56      41  Wyoming       Uinta County   \n",
      "3191      50       4         8     56      43  Wyoming    Washakie County   \n",
      "3192      50       4         8     56      45  Wyoming      Weston County   \n",
      "\n",
      "      CENSUS2010POP  ESTIMATESBASE2010  POPESTIMATE2010  ...  \\\n",
      "3188          43806              43806            43593  ...   \n",
      "3189          21294              21294            21297  ...   \n",
      "3190          21118              21118            21102  ...   \n",
      "3191           8533               8533             8545  ...   \n",
      "3192           7208               7208             7181  ...   \n",
      "\n",
      "      RDOMESTICMIG2011  RDOMESTICMIG2012  RDOMESTICMIG2013  RDOMESTICMIG2014  \\\n",
      "3188          1.072643         16.243199         -5.339774        -14.252889   \n",
      "3189         -1.589565          0.972695         19.525929         14.143021   \n",
      "3190        -17.755986         -4.916350         -6.902954        -14.215862   \n",
      "3191        -11.637475         -0.827815         -2.013502        -17.781491   \n",
      "3192        -11.752361         -8.040059         12.372583          1.533635   \n",
      "\n",
      "      RDOMESTICMIG2015  RNETMIG2011  RNETMIG2012  RNETMIG2013  RNETMIG2014  \\\n",
      "3188        -14.248864     1.255221    16.243199    -5.295460   -14.075283   \n",
      "3189         -0.564849     0.654527     2.408578    21.160658    16.308671   \n",
      "3190        -12.127022   -18.136812    -5.536861    -7.521840   -14.740608   \n",
      "3191          1.682288   -11.990126    -1.182592    -2.250385   -18.020168   \n",
      "3192          6.935294   -12.032179    -8.040059    12.372583     1.533635   \n",
      "\n",
      "      RNETMIG2015  \n",
      "3188   -14.070195  \n",
      "3189     1.520747  \n",
      "3190   -12.606351  \n",
      "3191     1.441961  \n",
      "3192     6.935294  \n",
      "\n",
      "[5 rows x 100 columns]\n"
     ]
    }
   ],
   "source": [
    "import pandas as pd\n",
    "census_df = pd.read_csv('census.csv')\n",
    "print(census_df.shape,'\\n')\n",
    "print(census_df.columns, '\\n')\n",
    "print(census_df.tail())"
   ]
  },
  {
   "cell_type": "markdown",
   "metadata": {},
   "source": [
    "3. (1) Which state has the largest number of counties? <br>\n",
    "Note: look at the data carefully and consider the sumlevel carefully. <br>\n",
    "Return a tuple that contains the name of the state and the number of counties."
   ]
  },
  {
   "cell_type": "code",
   "execution_count": 15,
   "metadata": {
    "umich_part_id": "005",
    "umich_partlist_id": "002"
   },
   "outputs": [
    {
     "data": {
      "text/plain": [
       "('Texas', 254)"
      ]
     },
     "execution_count": 15,
     "metadata": {},
     "output_type": "execute_result"
    }
   ],
   "source": [
    "def max_county():\n",
    "    # Your answer here\n",
    "    tmp = census_df[census_df['SUMLEV']==50]\n",
    "    each_num_county = tmp.groupby(['STNAME'])['SUMLEV'].aggregate('count')\n",
    "    num_county = each_num_county['Texas']\n",
    "    max_county = each_num_county.idxmax()\n",
    "    result = (max_county, num_county)\n",
    "    return result\n",
    "    \n",
    "\n",
    "max_county()"
   ]
  },
  {
   "cell_type": "markdown",
   "metadata": {},
   "source": [
    "3. (2) Which **state** has had the largest absolute change in population within the period 2010-2015? (Use columns: `POPESTIMATE2010`- `POPESTIMATE2015`). <br>\n",
    "For example, if the population in the 5 year period is 1300, 1400, 1100, 1500, 1200, then the largest absolute change is |1500-1100|=400 <br>\n",
    "Return a tuple that contains the name of the state and the largest absolute change.<br>"
   ]
  },
  {
   "cell_type": "code",
   "execution_count": 16,
   "metadata": {},
   "outputs": [
    {
     "data": {
      "text/plain": [
       "('Texas', 2224751)"
      ]
     },
     "execution_count": 16,
     "metadata": {},
     "output_type": "execute_result"
    }
   ],
   "source": [
    "def change_state():\n",
    "    # Your answer here\n",
    "    tmp = census_df[census_df['SUMLEV']==50]\n",
    "    df = tmp[['STNAME','POPESTIMATE2015','POPESTIMATE2014','POPESTIMATE2013','POPESTIMATE2012','POPESTIMATE2011','POPESTIMATE2010']]\n",
    "    df = df.groupby(['STNAME']).sum()\n",
    "    abs_value = df.apply(lambda x: x.max() - x.min(),axis=1)\n",
    "    result = (abs_value.idxmax(),abs_value.max())\n",
    "    return result\n",
    "    \n",
    "\n",
    "change_state()"
   ]
  },
  {
   "cell_type": "markdown",
   "metadata": {},
   "source": [
    "3. (3) By looking at the top three most populous **counties** in each **state only**, what are the top three most populous **states** that has the largest population in the top three most populous counties? Use `CENSUS2010POP`. <br>\n",
    "Return a pandas Series. Index: three state names. Value: the total population in the top three most populous counties (in the order of highest to lowest population)."
   ]
  },
  {
   "cell_type": "code",
   "execution_count": 17,
   "metadata": {},
   "outputs": [
    {
     "name": "stdout",
     "output_type": "stream",
     "text": [
      "['California' 'Texas' 'Illinois']\n",
      "[15924150  8269632  6815061]\n"
     ]
    }
   ],
   "source": [
    "def top_states():\n",
    "    \n",
    "    # Your answer here\n",
    "    top_cnty = census_df[census_df['SUMLEV']==50]\n",
    "    top_cnty = top_cnty[['STNAME','COUNTY','CENSUS2010POP']]\n",
    "    top_cnty = top_cnty.sort_values(by=['STNAME','CENSUS2010POP'],ascending = [True,False]).groupby('STNAME', sort=False).head(3)\n",
    "    sum_of_top3 = top_cnty.groupby('STNAME')['CENSUS2010POP'].sum()\n",
    "    sum_of_top3 = sum_of_top3.sort_values(ascending=False).head(3)\n",
    "    return sum_of_top3\n",
    "    \n",
    "    \n",
    "   \n",
    "# for grading\n",
    "re = top_states()\n",
    "print(re.index.values) #state names\n",
    "print(re.values) # total population of the top three counties"
   ]
  },
  {
   "cell_type": "markdown",
   "metadata": {},
   "source": [
    "3. (4) Convert the `CENSUS2010POP` from numbers to strings with thousands separators (using commas). i.e. 100000 to 100,000. <br>\n",
    "Return the pandas series of strings."
   ]
  },
  {
   "cell_type": "code",
   "execution_count": 18,
   "metadata": {},
   "outputs": [
    {
     "name": "stdout",
     "output_type": "stream",
     "text": [
      "0       4,779,736\n",
      "1          54,571\n",
      "2         182,265\n",
      "3          27,457\n",
      "4          22,915\n",
      "          ...    \n",
      "3188       43,806\n",
      "3189       21,294\n",
      "3190       21,118\n",
      "3191        8,533\n",
      "3192        7,208\n",
      "Name: CENSUS2010POP, Length: 3193, dtype: object\n"
     ]
    }
   ],
   "source": [
    "def separator():\n",
    "    # Your answer here\n",
    "    df4 = census_df[['CENSUS2010POP']]\n",
    "    df4 = df4['CENSUS2010POP'].apply('{:,}'.format).astype('str')\n",
    "    print(df4)\n",
    "    \n",
    "separator()"
   ]
  }
 ],
 "metadata": {
  "kernelspec": {
   "display_name": "Python 3",
   "language": "python",
   "name": "python3"
  },
  "language_info": {
   "codemirror_mode": {
    "name": "ipython",
    "version": 3
   },
   "file_extension": ".py",
   "mimetype": "text/x-python",
   "name": "python",
   "nbconvert_exporter": "python",
   "pygments_lexer": "ipython3",
   "version": "3.7.4"
  }
 },
 "nbformat": 4,
 "nbformat_minor": 4
}
